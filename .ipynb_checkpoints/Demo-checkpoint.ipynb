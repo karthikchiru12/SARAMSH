{
 "cells": [
  {
   "cell_type": "code",
   "execution_count": 1,
   "metadata": {
    "ExecuteTime": {
     "end_time": "2020-02-26T08:55:13.826639Z",
     "start_time": "2020-02-26T08:55:04.073157Z"
    }
   },
   "outputs": [],
   "source": [
    "from saramsh import Saramsh"
   ]
  },
  {
   "cell_type": "code",
   "execution_count": 2,
   "metadata": {
    "ExecuteTime": {
     "end_time": "2020-02-26T08:55:19.795789Z",
     "start_time": "2020-02-26T08:55:19.789952Z"
    }
   },
   "outputs": [],
   "source": [
    "data='''\n",
    "She isn’t one to shy away from taking up roles which are out of her comfort zone. Actor Divya Dutta, be it in Delhi 6 (2009), Bhaag Milkha Bhaag (2013), or Badlapur (2015), has always managed to leave an impact on the audience, the length of the role irrespective.\n",
    "\n",
    "Ask her however, if initially she had plans to become a commercial, mainstream film actor which people aspire, complete with drama and dance, she quips, “Yes!... I realised however, after Veer-Zara (2004), that the significance of a role is not just about being glamorous. What you give to a role is what’s integral to the story. Now everything is so story and character oriented… in fact, one of my directors was saying ‘you know that big heroine? She wants to do your role’.”\n",
    "\n",
    "She goes on to add that she has seen actor turn down roles because they were ‘small’. “Earlier, we used to say chhota role nahi karenge. I never said that, but I have seen girls say it. Now they say ‘chhota hai, koi baat nahi, impactful hai na?’”\n",
    "\n",
    "As we talk about the length of the role not mattering, we mention to her the debates that arise around casting, such as Bhumi Pednekar and Taapsee Pannu playing older characters on screen (instead of old actors being cast), Bhumi being made to change her skin’s colour for Bala.\n",
    "Divya herself had to colour her skin for Delhi 6. “You had Anupam Kher play an old man in Saraansh, Nargis ji played Mother India at the peak of her career… it’s not about who is playing it, it’s how you play it. The film you mentioned, if something was questionable, it was makeup and VFX. I once lost a role because I was told I am fair. They were looking for a village woman who is darker. They told me ‘you suit the role completely’. I asked ‘then why am I not doing it?’ They replied ‘you are too fair for the role’. I felt a little cheated at not being able to do something because of skin colour. But I am an actor. I was darkened for Delhi 6. I used to go to set at 4 in the morning, mera mazaak udta tha for the call time. I used to take so long to get ready. But here was a director (Rakeysh Omprakash Mehra) who interested me with a role. I saw Saand Ki Aankh, I thought the girls were young, they did a good job. Thodi der ke baad main bhool gayi (they are younger actors playing older characters),” says Divya.\n",
    "'''\n",
    "inshorts='''Actress Divya Dutta has revealed she once lost a role because she was told she was \"too fair\". \"They were looking for a village woman who's darker. They told me 'you suit the role completely',\" she added, stating her complexion was cited as the reason behind rejecting her. Divya further revealed she had to darken her skin for 'Delhi-6'.ipynb_checkpoints/'''\n",
    "title = '''Divya Dutta: ‘I once lost a role because I was told I am fair’''' "
   ]
  },
  {
   "cell_type": "code",
   "execution_count": 9,
   "metadata": {
    "ExecuteTime": {
     "end_time": "2020-02-26T08:56:54.770258Z",
     "start_time": "2020-02-26T08:56:54.704184Z"
    }
   },
   "outputs": [
    {
     "name": "stdout",
     "output_type": "stream",
     "text": [
      "0.9810933498889896\n",
      "\n",
      "  Divya Dutta: ‘I once lost a role because I was told I am fair’ \n",
      "\n",
      "\n",
      "She wants to do your role.Earlier, we used to say chhota role nahi karenge.I never said that, but I have seen girls say it.Now they say chhota hai, koi baat nahi, impactful hai na?Divya herself had to colour her skin for Delhi 6.They were looking for a village woman who is darker.They told me you suit the role completely.I asked then why am I not doing it?They replied you are too fair for the role.But I am an actor.I was darkened for Delhi 6.\n"
     ]
    }
   ],
   "source": [
    "sm = Saramsh(data,title).summarize()"
   ]
  }
 ],
 "metadata": {
  "kernelspec": {
   "display_name": "Python 3.6.10 64-bit ('karthik': conda)",
   "language": "python",
   "name": "python361064bitkarthikcondad07a6e6b3a5441b8956f8ba76ecea8fe"
  },
  "language_info": {
   "codemirror_mode": {
    "name": "ipython",
    "version": 3
   },
   "file_extension": ".py",
   "mimetype": "text/x-python",
   "name": "python",
   "nbconvert_exporter": "python",
   "pygments_lexer": "ipython3",
   "version": "3.6.10"
  }
 },
 "nbformat": 4,
 "nbformat_minor": 4
}
