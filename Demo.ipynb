{
 "cells": [
  {
   "cell_type": "code",
   "execution_count": 1,
   "metadata": {
    "ExecuteTime": {
     "end_time": "2020-02-24T21:49:08.575670Z",
     "start_time": "2020-02-24T21:49:07.555001Z"
    }
   },
   "outputs": [],
   "source": [
    "from saramsh import Saramsh"
   ]
  },
  {
   "cell_type": "code",
   "execution_count": 2,
   "metadata": {
    "ExecuteTime": {
     "end_time": "2020-02-24T21:49:09.736709Z",
     "start_time": "2020-02-24T21:49:09.731608Z"
    }
   },
   "outputs": [],
   "source": [
    "data='''\n",
    "She isn’t one to shy away from taking up roles which are out of her comfort zone. Actor Divya Dutta, be it in Delhi 6 (2009), Bhaag Milkha Bhaag (2013), or Badlapur (2015), has always managed to leave an impact on the audience, the length of the role irrespective.\n",
    "\n",
    "Ask her however, if initially she had plans to become a commercial, mainstream film actor which people aspire, complete with drama and dance, she quips, “Yes!... I realised however, after Veer-Zara (2004), that the significance of a role is not just about being glamorous. What you give to a role is what’s integral to the story. Now everything is so story and character oriented… in fact, one of my directors was saying ‘you know that big heroine? She wants to do your role’.”\n",
    "\n",
    "She goes on to add that she has seen actor turn down roles because they were ‘small’. “Earlier, we used to say chhota role nahi karenge. I never said that, but I have seen girls say it. Now they say ‘chhota hai, koi baat nahi, impactful hai na?’”\n",
    "\n",
    "As we talk about the length of the role not mattering, we mention to her the debates that arise around casting, such as Bhumi Pednekar and Taapsee Pannu playing older characters on screen (instead of old actors being cast), Bhumi being made to change her skin’s colour for Bala.\n",
    "Divya herself had to colour her skin for Delhi 6. “You had Anupam Kher play an old man in Saraansh, Nargis ji played Mother India at the peak of her career… it’s not about who is playing it, it’s how you play it. The film you mentioned, if something was questionable, it was makeup and VFX. I once lost a role because I was told I am fair. They were looking for a village woman who is darker. They told me ‘you suit the role completely’. I asked ‘then why am I not doing it?’ They replied ‘you are too fair for the role’. I felt a little cheated at not being able to do something because of skin colour. But I am an actor. I was darkened for Delhi 6. I used to go to set at 4 in the morning, mera mazaak udta tha for the call time. I used to take so long to get ready. But here was a director (Rakeysh Omprakash Mehra) who interested me with a role. I saw Saand Ki Aankh, I thought the girls were young, they did a good job. Thodi der ke baad main bhool gayi (they are younger actors playing older characters),” says Divya.\n",
    "'''\n",
    "inshorts='''Actress Divya Dutta has revealed she once lost a role because she was told she was \"too fair\". \"They were looking for a village woman who's darker. They told me 'you suit the role completely',\" she added, stating her complexion was cited as the reason behind rejecting her. Divya further revealed she had to darken her skin for 'Delhi-6'.ipynb_checkpoints/'''\n",
    "title = '''Divya Dutta: ‘I once lost a role because I was told I am fair’''' "
   ]
  },
  {
   "cell_type": "code",
   "execution_count": 5,
   "metadata": {
    "ExecuteTime": {
     "end_time": "2020-02-24T21:49:27.956574Z",
     "start_time": "2020-02-24T21:49:27.895238Z"
    }
   },
   "outputs": [
    {
     "name": "stdout",
     "output_type": "stream",
     "text": [
      "0.9810933498889896\n",
      "\n",
      "  Divya Dutta: ‘I once lost a role because I was told I am fair’ \n",
      "\n",
      "\n",
      "She wants to do your role.Earlier, we used to say chhota role nahi karenge.I never said that, but I have seen girls say it.Now they say chhota hai, koi baat nahi, impactful hai na?Divya herself had to colour her skin for Delhi 6.They were looking for a village woman who is darker.They told me you suit the role completely.I asked then why am I not doing it?They replied you are too fair for the role.But I am an actor.I was darkened for Delhi 6.\n"
     ]
    },
    {
     "data": {
      "text/plain": [
       "{0: 0.6456762277769232,\n",
       " 1: 0.35143448218781814,\n",
       " 2: 0.4348559934341011,\n",
       " 3: 0.6203773802431651,\n",
       " 4: 0.92527637655283,\n",
       " 5: 0.5147827217089981,\n",
       " 6: 1.9205487667535535,\n",
       " 7: 0.6691884771972108,\n",
       " 8: 1.242338597588167,\n",
       " 9: 1.0223732101094942,\n",
       " 10: 1.0123008841279317,\n",
       " 11: 0.22631332802960683,\n",
       " 12: 1.1138202931792227,\n",
       " 13: 0.3403309346087011,\n",
       " 14: 0.8187398721305433,\n",
       " 15: 0.9380994669586425,\n",
       " 16: 1.0747509953138794,\n",
       " 17: 1.4298873418245621,\n",
       " 18: 1.2106316281602358,\n",
       " 19: 1.2494085151953576,\n",
       " 20: 0.711767674532853,\n",
       " 21: 2.227544057316888,\n",
       " 22: 1.8646998225160767}"
      ]
     },
     "execution_count": 5,
     "metadata": {},
     "output_type": "execute_result"
    }
   ],
   "source": [
    "saramsh = Saramsh(data,title)\n",
    "saramsh.summarize()\n",
    "saramsh.sentenceScores_"
   ]
  }
 ],
 "metadata": {
  "kernelspec": {
   "display_name": "Python 3.6.10 64-bit ('karthik': conda)",
   "language": "python",
   "name": "python361064bitkarthikcondad07a6e6b3a5441b8956f8ba76ecea8fe"
  },
  "language_info": {
   "codemirror_mode": {
    "name": "ipython",
    "version": 3
   },
   "file_extension": ".py",
   "mimetype": "text/x-python",
   "name": "python",
   "nbconvert_exporter": "python",
   "pygments_lexer": "ipython3",
   "version": "3.6.10"
  }
 },
 "nbformat": 4,
 "nbformat_minor": 4
}
